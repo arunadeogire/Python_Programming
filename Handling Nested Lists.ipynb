{
 "cells": [
  {
   "cell_type": "markdown",
   "id": "18b8b6c4-8f65-44b4-bf84-2e3a85acd207",
   "metadata": {},
   "source": [
    "# <center> **Problem Statement** </center>\n",
    "\n",
    "A teacher has conducted an assessment test. The\n",
    "students were evaluated on 5 different subjects A, B, C, D, and E. The marks of\n",
    "5 different subjects out of 100 are given below. Help the teacher to find out\n",
    "the answers of the following questions.\n",
    "\n",
    "    ● Who scored the highest marks in the subject B?\n",
    "    ● What is the average marks scored in the subject C?\n",
    "    ● Who scored the highest percentage of marks?\n",
    "    ● If considered only top-4 subjects of a candidate, then who scored the highest percentage of marks?\n",
    "    ● Who scored the minimum marks in the subject E?\n"
   ]
  },
  {
   "cell_type": "code",
   "execution_count": 52,
   "id": "ed7707dd-fa14-4105-8614-2bd6c181a95b",
   "metadata": {
    "tags": []
   },
   "outputs": [],
   "source": [
    "# student marks\n",
    "student_marks = [['Name',  ['A','B','C','D','E']],\n",
    "                 ['Ankit',  [41, 34, 45, 55, 63]],\n",
    "                 ['Aravind',[42, 23, 34, 44, 53]],\n",
    "                 ['Lakshay',[32, 23, 13, 54, 67]],\n",
    "                 ['Gyan',   [23, 82, 23, 63, 34]],\n",
    "                 ['Pranav', [21, 23, 25, 56, 56]]\n",
    "                ]"
   ]
  },
  {
   "cell_type": "markdown",
   "id": "39bee59a-32d2-4271-8623-a90d5df7d803",
   "metadata": {},
   "source": [
    "## ● 🙇 Who scored the highest marks in the subject B?"
   ]
  },
  {
   "cell_type": "code",
   "execution_count": 53,
   "id": "133831bc-1a99-480c-9d50-abcf6e33259b",
   "metadata": {
    "tags": []
   },
   "outputs": [
    {
     "name": "stdout",
     "output_type": "stream",
     "text": [
      "original copy: [(34, 'Ankit'), (23, 'Aravind'), (23, 'Lakshay'), (82, 'Gyan'), (23, 'Pranav')]\n",
      "Sorted Copy: [(82, 'Gyan'), (34, 'Ankit'), (23, 'Pranav'), (23, 'Lakshay'), (23, 'Aravind')]\n",
      "Gyan scored the highest marks in subject B.\n"
     ]
    }
   ],
   "source": [
    "marks_n_names_B=[]\n",
    "\n",
    "for record in student_marks[1:]:\n",
    "    marks_n_names_B.append((record[1][1],record[0])) # extract marks of Subject B\n",
    "    \n",
    "print(\"original copy:\",marks_n_names_B)\n",
    "marks_n_names_B.sort(reverse=True) # sort Ascending\n",
    "print('Sorted Copy:',marks_n_names_B)\n",
    "print(f\"{marks_n_names_B[0][1]} scored the highest marks in subject B.\")\n"
   ]
  },
  {
   "cell_type": "markdown",
   "id": "024d6388-1641-4dea-8925-6e351c4e55a1",
   "metadata": {},
   "source": [
    "## ● 🙇 What is the average marks scored in the subject C?"
   ]
  },
  {
   "cell_type": "code",
   "execution_count": 54,
   "id": "f510225e-9aac-4a3e-b5e8-3d46c4bf72eb",
   "metadata": {
    "tags": []
   },
   "outputs": [
    {
     "name": "stdout",
     "output_type": "stream",
     "text": [
      "[45, 34, 13, 23, 25]\n",
      "Average marks scored in the subject C is: 28\n"
     ]
    }
   ],
   "source": [
    "marks_c=[]\n",
    "for record in student_marks[1:]:\n",
    "    marks_c.append(record[1][2])\n",
    "print(marks_c)\n",
    "print('Average marks scored in the subject C is:',round(sum(marks_c)/len(marks_c)))"
   ]
  },
  {
   "cell_type": "markdown",
   "id": "997f8c7d-cc27-4071-816b-ef84144fcc38",
   "metadata": {},
   "source": [
    "## ● 🙇 Who scored the highest percentage of marks?"
   ]
  },
  {
   "cell_type": "code",
   "execution_count": 55,
   "id": "49920307-2ede-43ea-97cf-8ee2fea65e6c",
   "metadata": {
    "tags": []
   },
   "outputs": [
    {
     "name": "stdout",
     "output_type": "stream",
     "text": [
      "Ankit Got Highest Percentage\n"
     ]
    }
   ],
   "source": [
    "percentage =[]\n",
    "for record in student_marks[1:]:\n",
    "    percentage.append(((sum(record[1])/500)*100,record[0]))\n",
    "percentage.sort(reverse=True)\n",
    "print(f'{percentage[0][1]} Got Highest Percentage')\n"
   ]
  },
  {
   "cell_type": "markdown",
   "id": "46d62c71-2aac-49fd-bf39-62e8d25dcf0a",
   "metadata": {},
   "source": [
    "## ● 🙇 If considered only top-4 subjects of a candidate, then who scored the highest percentage of marks?"
   ]
  },
  {
   "cell_type": "code",
   "execution_count": 56,
   "id": "addd3c0a-d803-4748-93fd-f21276974e25",
   "metadata": {
    "tags": []
   },
   "outputs": [
    {
     "name": "stdout",
     "output_type": "stream",
     "text": [
      "[(0.4775, 'Gyan'), (0.4375, 'Ankit'), (0.3575, 'Aravind'), (0.3125, 'Pranav'), (0.305, 'Lakshay')]\n",
      "Considering top 4 subject, highest percentage is to Gyan\n"
     ]
    }
   ],
   "source": [
    "percentage_top4=[]\n",
    "for record in student_marks[1:]:\n",
    "    temp=record.copy()\n",
    "    percentage_top4.append( (sum(temp[1][:-1])/400,temp[0]))\n",
    "    \n",
    "percentage_top4.sort(reverse=True)\n",
    "print(percentage_top4)\n",
    "print(f\"Considering top 4 subject, highest percentage is to {percentage_top4[0][1]}\")"
   ]
  },
  {
   "cell_type": "markdown",
   "id": "bc95b3a0-3001-4232-8121-67e5b7abbf99",
   "metadata": {},
   "source": [
    "## ● 🙇 Who scored the minimum marks in the subject E?"
   ]
  },
  {
   "cell_type": "code",
   "execution_count": 57,
   "id": "481f94bd-b3da-43f4-a013-8de32f7e5def",
   "metadata": {
    "tags": []
   },
   "outputs": [
    {
     "name": "stdout",
     "output_type": "stream",
     "text": [
      "____________________________________________________________________________________________________\n",
      "Gyan scored the lowest in the subject E i.e.34.\n",
      "____________________________________________________________________________________________________\n"
     ]
    }
   ],
   "source": [
    "marks_n_names_E = []\n",
    "\n",
    "for record in student_marks[1:]:\n",
    "    marks_n_names_E.append((record[1][4],record[0])) # extract marks of Subject E\n",
    "    \n",
    "# print(\"original copy:\",marks_n_names_E)\n",
    "# print('_'*100)\n",
    "marks_n_names_E.sort() # sort Ascending\n",
    "# print('Sorted Copy:',marks_n_names_E)\n",
    "print('_'*100)\n",
    "print(f\"{marks_n_names_E[0][1]} scored the lowest in the subject E i.e.{marks_n_names_E[0][0]}.\")\n",
    "print('_'*100)\n"
   ]
  },
  {
   "cell_type": "code",
   "execution_count": null,
   "id": "c6f95e51-5624-4dac-b963-ec58a6dabcc2",
   "metadata": {},
   "outputs": [],
   "source": []
  }
 ],
 "metadata": {
  "kernelspec": {
   "display_name": "Python 3 (ipykernel)",
   "language": "python",
   "name": "python3"
  },
  "language_info": {
   "codemirror_mode": {
    "name": "ipython",
    "version": 3
   },
   "file_extension": ".py",
   "mimetype": "text/x-python",
   "name": "python",
   "nbconvert_exporter": "python",
   "pygments_lexer": "ipython3",
   "version": "3.10.9"
  },
  "widgets": {
   "application/vnd.jupyter.widget-state+json": {
    "state": {},
    "version_major": 2,
    "version_minor": 0
   }
  }
 },
 "nbformat": 4,
 "nbformat_minor": 5
}
